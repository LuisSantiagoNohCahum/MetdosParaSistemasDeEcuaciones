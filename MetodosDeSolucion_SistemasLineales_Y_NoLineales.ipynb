{
 "cells": [
  {
   "cell_type": "markdown",
   "metadata": {},
   "source": [
    "## METODOS NUMERICOS\n",
    "\n",
    "#### Maestro : Jorge Manuel Pool Cen \n",
    "\n",
    "### UNIDAD 3 - Métodos de solución de sistemas de ecuaciones\n",
    "\n",
    "### INTEGRANTES\n",
    "+ #### LUIS SANTIAGO NOH CAHUM - 19070049\n",
    "+ #### MARICELA DEL ROSARIO PUC OY - 19070051\n",
    "+ #### JESUS ISRAEL GAMBOA AKE - 19070041\n",
    "\n",
    "FECHA DE ENTREGA: 27 DE ABRIL DE 2021\n"
   ]
  },
  {
   "cell_type": "markdown",
   "metadata": {},
   "source": [
    "# **Metodos Para Sistemas Lineales**"
   ]
  },
  {
   "attachments": {},
   "cell_type": "markdown",
   "metadata": {},
   "source": [
    "## *Metodo de Jacobi*\n",
    "\n",
    "El sistema lineal Ax = b dado por \n",
    "\n",
    "$E_{1} : a_{11}x_{1} + a_{12}x_{2} +...+ a_{1n}x_{n} = b_{1}$\n",
    "\n",
    "$E_{2} : a_{21}x_{1} + a_{22}x_{2} +...+ a_{2n}x_{n} = b_{2}$\n",
    "\n",
    "                    :\n",
    "                   \n",
    "$E_{m} : a_{m1}x_{1} + a_{m2}x_{2} +...+ a_{mn}x_{n} = b_{m}$\n",
    "\n",
    "y tiene la solución para cada $x_{i}$. Para convertir Ax = b en la forma x = Tx + c, \n",
    "resolvemos la ecuación $E_{i}$ para $x_{i}$ con cada i = 1, 2, 3, 4\n",
    "\n",
    "Si queremos escribir esto en la forma x = Tx + e, utilizamos una matriz de coeficientes *T* y una matriz de terminos independientes *c*. Con un vector de aproximación inicial ${x^0}$.\n",
    "\n",
    "Esta técnica tiene la forma \n",
    "\n",
    "${x_i^k} = T*x^{k-1} + c$"
   ]
  },
  {
   "cell_type": "markdown",
   "metadata": {},
   "source": [
    "+ #### *Cargar Librerias*"
   ]
  },
  {
   "cell_type": "code",
   "execution_count": 81,
   "metadata": {},
   "outputs": [],
   "source": [
    "import numpy as np\n",
    "\n",
    "from math import *"
   ]
  },
  {
   "cell_type": "markdown",
   "metadata": {},
   "source": [
    "+ #### *Metodo de Jacobi*"
   ]
  },
  {
   "cell_type": "code",
   "execution_count": 82,
   "metadata": {},
   "outputs": [],
   "source": [
    "def jacobi (T,C,X, error, iteraciones):\n",
    "    e=1\n",
    "    i=0\n",
    "    while i<iteraciones:\n",
    "        resultado = np.dot(T,X)+C\n",
    "        numerador = np.amax(abs(resultado-X))\n",
    "        denominador = np.amax(abs(resultado))\n",
    "        e= numerador/denominador\n",
    "        print(\"vector resultado en Iteracion \",(i+1), \" : \",resultado, \"error: {0:^10.5f}\".format(e))\n",
    "        X=resultado\n",
    "        if e< error:\n",
    "            return \"\\n\\tSolucion final aproximada: \"+ str(X)\n",
    "            break\n",
    "        i+=1\n",
    "    return \"SE HA ALCANZADO EL NUMERO MAXIMO DE ITERACIONES\" +\"\\nLa solucion alcanzada con \" + str((i))+\"iteraciones es: \" + str(X)"
   ]
  },
  {
   "cell_type": "markdown",
   "metadata": {},
   "source": [
    "+ #### *Definir matriz T, C y el vector de aproximacion inicial X*"
   ]
  },
  {
   "cell_type": "code",
   "execution_count": 83,
   "metadata": {},
   "outputs": [
    {
     "name": "stdout",
     "output_type": "stream",
     "text": [
      "vector resultado en Iteracion  1  :  [ 0.6         2.27272727 -1.1         1.875     ] error:  1.00000  \n",
      "vector resultado en Iteracion  2  :  [ 1.04727273  1.71590909 -0.80522727  0.88522727] error:  0.57682  \n",
      "vector resultado en Iteracion  3  :  [ 0.93263636  2.05330579 -1.04934091  1.13088068] error:  0.16432  \n",
      "vector resultado en Iteracion  4  :  [ 1.01519876  1.95369576 -0.96810863  0.97384272] error:  0.08038  \n",
      "vector resultado en Iteracion  5  :  [ 0.9889913   2.01141473 -1.0102859   1.02135051] error:  0.02870  \n",
      "vector resultado en Iteracion  6  :  [ 1.00319865  1.99224126 -0.99452174  0.99443374] error:  0.01351  \n",
      "vector resultado en Iteracion  7  :  [ 0.99812847  2.00230688 -1.00197223  1.00359431] error:  0.00503  \n",
      "vector resultado en Iteracion  8  :  [ 1.00062513  1.9986703  -0.99903558  0.99888839] error:  0.00235  \n",
      "vector resultado en Iteracion  9  :  [ 0.99967415  2.00044767 -1.00036916  1.00061919] error:  0.00089  \n",
      "\n",
      "\tSolucion final aproximada: [ 0.99967415  2.00044767 -1.00036916  1.00061919]\n"
     ]
    }
   ],
   "source": [
    "T = np.array([[0,1/10,-1/5,0],[1/11,0,1/11,-3/11],[-1/5,1/10,0,1/10],[0,-3/8,1/8,0]])\n",
    "C = np.array([3/5,25/11,-11/10,15/8])\n",
    "x = np.array([0,0,0,0])\n",
    "\n",
    "print(jacobi(T,C,x,0.001,10))"
   ]
  },
  {
   "cell_type": "markdown",
   "metadata": {},
   "source": [
    "## *Metodo de Gauss-Seidel*\n",
    "\n",
    "El método de Gauss-Seidel es muy semejante al método de Jacobi. Mientras que en el de Jacobi se utiliza el valor de las incógnitas para determinar una nueva aproximación, en el de Gauss-Seidel se va utilizando los valores de las incógnitas recién calculados en la misma iteración, y no en la siguiente. Por ejemplo, en el método de Jacobi se obtiene en el primer cálculo $x_{i+1}$, pero este valor de *x* no se utiliza sino hasta la siguiente iteración. En el método de Gauss-Seidel en lugar de eso se utiliza de $x_{i+1}$ en lugar de $x_{i}$ en forma inmediata para calcular el valor de $y_{i+1}$ de igual manera procede con las siguientes variables; siempre se utilizan las variables recién calculadas."
   ]
  },
  {
   "cell_type": "markdown",
   "metadata": {},
   "source": [
    "+ #### *Metodo de Gauss - Seidel*"
   ]
  },
  {
   "cell_type": "code",
   "execution_count": 84,
   "metadata": {},
   "outputs": [],
   "source": [
    "import numpy as np\n",
    "\n",
    "def Gaus_Seidel (A,B,X, tol, numIter):\n",
    "    tamaño=np.shape(A)\n",
    "    n=tamaño[0]\n",
    "    m=tamaño[1]\n",
    "    X= np.copy(x)\n",
    "    diferencia = np.ones(n, dtype = float)\n",
    "    error=1\n",
    "    i=0\n",
    "    itera=0\n",
    "    while (itera < numIter):\n",
    "        for i in range(0,n,1):\n",
    "            suma = 0\n",
    "            for j in range(0,n,1):\n",
    "                if j!=i:\n",
    "                    suma = suma + A[i,j]*X[j]\n",
    "            nuevo = (B[i]-suma)/A[i,i]\n",
    "            diferencia[i]=np.abs((nuevo - X[i]))\n",
    "            X[i]=nuevo\n",
    "        error= np.max(diferencia)\n",
    "        print(\"Iteración:\",(itera+1),\" Resultado \",X, \"error: {0:^10.5f}\".format(error))\n",
    "        if error< tol:\n",
    "            return \"\\n\\tSolucion final aproximada: \"+ str(X)\n",
    "            break\n",
    "        itera = itera +1\n",
    "    return \"SE HA ALCANZADO EL NUMERO MAXIMO DE ITERACIONES\" +\"\\nLa solucion alcanzada con \" + str((i))+\"iteraciones es: \" + str(X)"
   ]
  },
  {
   "cell_type": "markdown",
   "metadata": {},
   "source": [
    "+ #### *Definir matriz A (De coeficientes), C (De terminos independientes) y el vector de aproximacion inicial x*"
   ]
  },
  {
   "cell_type": "code",
   "execution_count": 85,
   "metadata": {},
   "outputs": [
    {
     "name": "stdout",
     "output_type": "stream",
     "text": [
      "Iteración: 1  Resultado  [ 0.33333333 -0.16666667  0.5       ] error:  0.50000  \n",
      "Iteración: 2  Resultado  [ 0.11111111 -0.22222222  0.61904762] error:  0.22222  \n",
      "Iteración: 3  Resultado  [ 0.05291005 -0.23280423  0.64852608] error:  0.05820  \n",
      "Iteración: 4  Resultado  [ 0.03955656 -0.23595364  0.65559875] error:  0.01335  \n",
      "Iteración: 5  Resultado  [ 0.0361492  -0.23660752  0.65733928] error:  0.00341  \n",
      "Iteración: 6  Resultado  [ 0.03535107 -0.23678863  0.65775895] error:  0.00080  \n",
      "\n",
      "\tSolucion final aproximada: [ 0.03535107 -0.23678863  0.65775895]\n"
     ]
    }
   ],
   "source": [
    "A = np.array([[3,-1,1],\n",
    "          [3,6,2],\n",
    "          [3, 3,7]])\n",
    "\n",
    "B = np.array([1, 0, 4])\n",
    "\n",
    "x=np.array([0.0,0.0,0.0])\n",
    "\n",
    "print(Gaus_Seidel (A,B,x, 0.001, 10))"
   ]
  },
  {
   "cell_type": "markdown",
   "metadata": {},
   "source": [
    "# Metodos Para Sistemas No Lineales"
   ]
  },
  {
   "cell_type": "markdown",
   "metadata": {},
   "source": [
    "## *Metodo de Newton para sistemas no lineales*\n",
    "\n",
    "La aproximacion a la solucion se genera calculando:\n",
    "\n",
    "\n",
    "${x^{k+1}} = x^{k} - J^{-1}(x^{k}) F(x^{k})$\n",
    "\n",
    "Donde: \n",
    "\n",
    "$F(x^{k})$ : Vector de funciones\n",
    "\n",
    "$J^{-1}(x^{k})$ : inversa de la matriz jacobiana, la matriz jacobiana es una matriz de derivadas parciales\n",
    "\n",
    "$x$ : vector de incognitas, el cual se ingresa como un vector con una aproximacion inicial"
   ]
  },
  {
   "cell_type": "code",
   "execution_count": 86,
   "metadata": {},
   "outputs": [],
   "source": [
    "\n",
    "def newtonNoLineales (jacobiano, Fx, x, tolerancia, iteraciones):\n",
    "    error = 1\n",
    "    i=0\n",
    "    while i<iteraciones:\n",
    "        r= jacobiano(x)\n",
    "        feval = Fx(x)\n",
    "        resultado =x- np.dot(r,feval)\n",
    "        numerador = np.amax( abs((resultado - x)))\n",
    "        denominador = np.amax( abs(resultado))\n",
    "        error = numerador/denominador\n",
    "        print(\"Iteración:\",(i+1),\" Solucion aproximada: \",resultado, \"error: {0:^10.5f}\".format(error))\n",
    "        if error< tolerancia:\n",
    "            return \"\\n\\tSolucion final aproximada: \"+ str(resultado)\n",
    "            break\n",
    "        x=resultado\n",
    "        i+=1\n",
    "    return \"SE HA ALCANZADO EL NUMERO MAXIMO DE ITERACIONES\" +\"\\nLa solucion alcanzada con \" + str((i))+\"iteraciones es: \" + str(x)"
   ]
  },
  {
   "cell_type": "markdown",
   "metadata": {},
   "source": [
    "+ #### *Definir matriz jacobiana formada por las derivadas parciales*"
   ]
  },
  {
   "cell_type": "code",
   "execution_count": 87,
   "metadata": {},
   "outputs": [],
   "source": [
    "##definir matriz jacobiana formada por las derivadas parciales\n",
    "def jacobiano(x):\n",
    "    J = np.array([[8*x[0]-20,1/2*x[1]],[1/2*(x[1]**2)+2, x[0]*x[1]-5]])\n",
    "    JInversa = np.linalg.inv(J)\n",
    "    return JInversa"
   ]
  },
  {
   "cell_type": "markdown",
   "metadata": {},
   "source": [
    "+ #### *Definir vector de funciones*"
   ]
  },
  {
   "cell_type": "code",
   "execution_count": 88,
   "metadata": {},
   "outputs": [],
   "source": [
    "##Definir vector de funciones\n",
    "def Fx(x):\n",
    "    xk=np.array([4*x[0]**2-20*x[0]+1/4*x[1]**2+8, 1/2*x[0]*(x[1]**2)+2*x[0]-5*x[1]+8])\n",
    "    return xk"
   ]
  },
  {
   "cell_type": "markdown",
   "metadata": {},
   "source": [
    "+ #### *Vector de valores iniciales*"
   ]
  },
  {
   "cell_type": "code",
   "execution_count": 89,
   "metadata": {},
   "outputs": [
    {
     "name": "stdout",
     "output_type": "stream",
     "text": [
      "Iteración: 1  Solucion aproximada:  [0.4  1.76] error:  1.00000  \n",
      "Iteración: 2  Solucion aproximada:  [0.49589361 1.98342347] error:  0.11265  \n",
      "Iteración: 3  Solucion aproximada:  [0.49998761 1.99993705] error:  0.00826  \n",
      "\n",
      "\tSolucion final aproximada: [0.49998761 1.99993705]\n"
     ]
    }
   ],
   "source": [
    "#vector de valores iniciales\n",
    "x = np.array([0.0,0.0]) \n",
    "\n",
    "print(newtonNoLineales (jacobiano, Fx, x, 0.01, 20))"
   ]
  },
  {
   "cell_type": "markdown",
   "metadata": {},
   "source": [
    "## Metodo de Punto Fijo para sistemas no lineales\n",
    "\n",
    "Partimos, por ejemplo, de un sistema de dos ecuaciones de la forma ${f_1(x, y) = 0}$, ${f_2(x, y) = 0}$, del que se pretende obtener la solución. Para utilizar el método del punto fijo, se reescribe el sistema de la forma $x = {g_1(x, y)}$, $y = {g_2(x, y)}$. Se construye la sucesión $({x_{n+1},y_{n+1}})$ = (${g_1(x, y)}$,${g_2(x, y)}$) que como ocurre en el caso escalar la eficiencia del método dependerá de la elección de las funciones ${g_1}$ y ${g_2}$."
   ]
  },
  {
   "cell_type": "markdown",
   "metadata": {},
   "source": [
    "+ #### *Metodo de punto fijo para sistemas de ecuaciones no lineales 2 x 2*"
   ]
  },
  {
   "cell_type": "code",
   "execution_count": 90,
   "metadata": {},
   "outputs": [
    {
     "name": "stdout",
     "output_type": "stream",
     "text": [
      "Iteración: 1  Solucion aproximada:  [2.17944947 2.86050599] error:  0.23753  \n",
      "Iteración: 2  Solucion aproximada:  [1.94053388 3.04955067] error:  0.07834  \n",
      "Iteración: 3  Solucion aproximada:  [2.02045629 2.98340475] error:  0.02679  \n",
      "Iteración: 4  Solucion aproximada:  [1.99302813 3.00570436] error:  0.00913  \n",
      "Iteración: 5  Solucion aproximada:  [2.00238524 2.9980543 ] error:  0.00312  \n",
      "Iteración: 6  Solucion aproximada:  [1.99918491 3.00066556] error:  0.00107  \n",
      "Iteración: 7  Solucion aproximada:  [2.00027865 2.99977255] error:  0.00036  \n",
      "Iteración: 8  Solucion aproximada:  [1.99990475 3.00007776] error:  0.00012  \n",
      "Iteración: 9  Solucion aproximada:  [2.00003256 2.99997342] error:  0.00004  \n",
      "\n",
      "\tSolucion final aproximada: [2.00003256 2.99997342]\n"
     ]
    }
   ],
   "source": [
    "# Importamos las librerias necesarias\n",
    "import numpy as np\n",
    "\n",
    "# iteraciones\n",
    "def puntoFij2var(vec, fun1, fun2, tol, iteraciones):\n",
    "    error=1\n",
    "    i=0\n",
    "    vector=np.array([0.0,0.0])\n",
    "    while i<iteraciones:\n",
    "        vector[0] = g1(vec[0], vec[1])\n",
    "        vector[1] = g2(vector[0], vec[1])\n",
    "        \n",
    "        numerador = np.amax( abs((vector - vec)))\n",
    "        denominador = np.amax( abs(vector))\n",
    "        error = numerador/denominador\n",
    "        \n",
    "        print(\"Iteración:\",(i+1),\" Solucion aproximada: \",vector, \"error: {0:^10.5f}\".format(error))\n",
    "        \n",
    "        if error < tol:\n",
    "            return \"\\n\\tSolucion final aproximada: \" + str(vector)\n",
    "            break\n",
    "        else:\n",
    "            vec[0]=vector[0]\n",
    "            vec[1]=vector[1]\n",
    "            i+=1\n",
    "    return \"SE HA ALCANZADO EL NUMERO MAXIMO DE ITERACIONES\" +\"\\nLa solucion alcanzada con \" + str((i))+\"iteraciones es: \" + str(vec)\n",
    "\n",
    "\n",
    "def g1(x,y):\n",
    "    return (10-(x*y))**0.5\n",
    "\n",
    "def g2(x,y):\n",
    "    return ((57-y)/(3*x))**0.5\n",
    "\n",
    "x=np.array([1.5,3.5])\n",
    "\n",
    "print(puntoFij2var(x,g1,g2,0.0001,10))"
   ]
  },
  {
   "cell_type": "code",
   "execution_count": null,
   "metadata": {},
   "outputs": [],
   "source": []
  }
 ],
 "metadata": {
  "kernelspec": {
   "display_name": "Python 3",
   "language": "python",
   "name": "python3"
  },
  "language_info": {
   "codemirror_mode": {
    "name": "ipython",
    "version": 3
   },
   "file_extension": ".py",
   "mimetype": "text/x-python",
   "name": "python",
   "nbconvert_exporter": "python",
   "pygments_lexer": "ipython3",
   "version": "3.8.5"
  }
 },
 "nbformat": 4,
 "nbformat_minor": 4
}
